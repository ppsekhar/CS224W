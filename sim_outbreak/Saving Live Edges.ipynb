{
 "cells": [
  {
   "cell_type": "code",
   "execution_count": 1,
   "metadata": {},
   "outputs": [],
   "source": [
    "import random\n",
    "import csv\n",
    "import math\n",
    "import numpy as np\n",
    "import time"
   ]
  },
  {
   "cell_type": "code",
   "execution_count": 2,
   "metadata": {},
   "outputs": [],
   "source": [
    "# e-mails can have multiple timestamps\n",
    "def orderTimestamps(filename):\n",
    "    \n",
    "    timestampsDict = dict()\n",
    "\n",
    "    with open(filename,'rb') as tsvin:\n",
    "        tsvin = csv.reader(tsvin, delimiter='\\t')\n",
    "        next(tsvin)\n",
    "        \n",
    "        for row in tsvin:\n",
    "            srcID = int(row[0])\n",
    "            dstID = int(row[1])\n",
    "            timestamp = int(row[3])\n",
    "            edge = (srcID, dstID, timestamp)\n",
    "            if edge in timestampsDict:\n",
    "                timestampsDict[edge] += 1\n",
    "            else:\n",
    "                timestampsDict[edge] = 1\n",
    "    \n",
    "    sorted_timestampsDict = sorted( (key[2], key[0], key[1], value) for (key, value) in timestampsDict.items() )\n",
    "    \n",
    "    \n",
    "    return sorted_timestampsDict"
   ]
  },
  {
   "cell_type": "code",
   "execution_count": 30,
   "metadata": {},
   "outputs": [],
   "source": [
    "# creates historic record of deterministic infections, live edges\n",
    "# given how many runs, p_initial, p_infect\n",
    "# returns a list of lists. each sublist contains the nodes that are infected in an outbreak in chronological order\n",
    "# this function is used to create live edges for CELF in maximizing outbreak detection and minimizing population affected\n",
    "\n",
    "def createLiveEdges_combined(runs, p_initial_infect, p_infect, n=2029, seed=0, debug=False):\n",
    "    random.seed(seed)\n",
    "    timestampsOrdered = orderTimestamps('out.dnc-temporalGraph')\n",
    "    \n",
    "    \n",
    "    num_nodes_infect = math.floor(n * p_initial_infect)\n",
    "    lists_infected_nodes = [] # list of lists of infected nodes from every run\n",
    "    lists_infected_dicts = []  # for steps\n",
    "     \n",
    "    \n",
    "    for run in range(runs): # go thru runs\n",
    "        if run % 25000 == 0:\n",
    "            print \"Creating Live Edge #\" + str(run)\n",
    "        \n",
    "        cur_infected_ids = []\n",
    "        cur_infected_dict = {}\n",
    "        \n",
    "        # Mark patient zeros\n",
    "        while len(cur_infected_ids) < num_nodes_infect:\n",
    "            nID = random.randint(1,n) \n",
    "            if nID not in cur_infected_ids:\n",
    "                cur_infected_ids.append(nID)\n",
    "                cur_infected_dict[nID] = 0\n",
    "        \n",
    "        step = 0 \n",
    "        \n",
    "        for timestamp in timestampsOrdered: # cycle thru the timestamps in the e-mails\n",
    "            \n",
    "            sourceNode = timestamp[1]\n",
    "            destNode = timestamp[2]\n",
    "            \n",
    "            # this logic is used to infect neighbors\n",
    "            if sourceNode in cur_infected_ids: # source node is infected, so we can try to infect\n",
    "                if destNode not in cur_infected_ids: # destination node isn't infected, so we can try to infect\n",
    "                    infected = False # flag to track whether infection successfully transmits\n",
    "                    for email in range(timestamp[3]): # since an edge w/ the same timestamp can occur multiple times\n",
    "                        if random.uniform(0, 1) < p_infect: # flip a coin to infect neighbor\n",
    "                            infected = True\n",
    "                            cur_infected_ids.append(destNode)\n",
    "                            cur_infected_dict[destNode] = step + email # timestamp of infection\n",
    "                            break # b/c we do have an infection, so no need to try to keep infecting\n",
    "            step = step + timestamp[3] # increment the step\n",
    "            \n",
    "        lists_infected_nodes.append(cur_infected_ids) \n",
    "        lists_infected_dicts.append(cur_infected_dict)\n",
    "        \n",
    "    return lists_infected_nodes, lists_infected_dicts"
   ]
  },
  {
   "cell_type": "code",
   "execution_count": 31,
   "metadata": {},
   "outputs": [
    {
     "name": "stdout",
     "output_type": "stream",
     "text": [
      "Creating Live Edge #0\n",
      "Creating Live Edge #25000\n",
      "Creating Live Edge #50000\n",
      "Creating Live Edge #75000\n",
      "Creating Live Edge #100000\n",
      "Creating Live Edge #125000\n",
      "Creating Live Edge #150000\n",
      "Creating Live Edge #175000\n",
      "Creating Live Edge #0\n",
      "Creating Live Edge #25000\n",
      "Creating Live Edge #50000\n",
      "Creating Live Edge #75000\n",
      "Creating Live Edge #100000\n",
      "Creating Live Edge #125000\n",
      "Creating Live Edge #150000\n",
      "Creating Live Edge #175000\n",
      "Creating Live Edge #0\n",
      "Creating Live Edge #25000\n",
      "Creating Live Edge #50000\n",
      "Creating Live Edge #75000\n",
      "Creating Live Edge #100000\n",
      "Creating Live Edge #125000\n",
      "Creating Live Edge #150000\n",
      "Creating Live Edge #175000\n",
      "Creating Live Edge #0\n",
      "Creating Live Edge #25000\n",
      "Creating Live Edge #50000\n",
      "Creating Live Edge #75000\n",
      "Creating Live Edge #100000\n",
      "Creating Live Edge #125000\n",
      "Creating Live Edge #150000\n",
      "Creating Live Edge #175000\n"
     ]
    }
   ],
   "source": [
    "live_edges_200k_point001_point3, live_edges_200k_point001_point3_steps = createLiveEdges_combined(200000, 0.001, 0.3)\n",
    "live_edges_200k_point005_point3, live_edges_200k_point005_point3_steps = createLiveEdges_combined(200000, 0.005, 0.3)\n",
    "live_edges_200k_point001_point5, live_edges_200k_point001_point5_steps = createLiveEdges_combined(200000, 0.001, 0.5)\n",
    "live_edges_200k_point005_point5, live_edges_200k_point005_point5_steps = createLiveEdges_combined(200000, 0.005, 0.5)\n"
   ]
  },
  {
   "cell_type": "code",
   "execution_count": 4,
   "metadata": {},
   "outputs": [],
   "source": [
    "import pickle"
   ]
  },
  {
   "cell_type": "code",
   "execution_count": 33,
   "metadata": {},
   "outputs": [],
   "source": [
    "pickle.dump(live_edges_200k_point001_point3, open(\"live_edges_200k_point001_point3\", \"wb\") )\n",
    "pickle.dump(live_edges_200k_point001_point3_steps, open(\"live_edges_200k_point001_point3_steps\", \"wb\") )\n",
    "pickle.dump(live_edges_200k_point005_point3, open(\"live_edges_200k_point005_point3\", \"wb\") )\n",
    "pickle.dump(live_edges_200k_point005_point3_steps, open(\"live_edges_200k_point005_point3_steps\", \"wb\") )\n",
    "pickle.dump(live_edges_200k_point001_point5, open(\"live_edges_200k_point001_point5\", \"wb\") )\n",
    "pickle.dump(live_edges_200k_point001_point5_steps, open(\"live_edges_200k_point001_point5_steps\", \"wb\") )\n",
    "pickle.dump(live_edges_200k_point005_point5, open(\"live_edges_200k_point005_point5\", \"wb\") )"
   ]
  },
  {
   "cell_type": "code",
   "execution_count": 35,
   "metadata": {},
   "outputs": [],
   "source": [
    "pickle.dump(live_edges_200k_point005_point5_steps, open(\"live_edges_200k_point005_point5_steps\", \"wb\") )"
   ]
  },
  {
   "cell_type": "code",
   "execution_count": null,
   "metadata": {},
   "outputs": [],
   "source": []
  }
 ],
 "metadata": {
  "kernelspec": {
   "display_name": "Python 2",
   "language": "python",
   "name": "python2"
  },
  "language_info": {
   "codemirror_mode": {
    "name": "ipython",
    "version": 2
   },
   "file_extension": ".py",
   "mimetype": "text/x-python",
   "name": "python",
   "nbconvert_exporter": "python",
   "pygments_lexer": "ipython2",
   "version": "2.7.15"
  }
 },
 "nbformat": 4,
 "nbformat_minor": 2
}
