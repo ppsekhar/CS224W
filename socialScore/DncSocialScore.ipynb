{
 "cells": [
  {
   "cell_type": "code",
   "execution_count": 1,
   "metadata": {},
   "outputs": [],
   "source": [
    "import snap \n",
    "import pandas as pd \n",
    "import numpy as np\n",
    "import matplotlib.pyplot as plt \n",
    "import networkx as nx\n",
    "\n",
    "from matplotlib.pyplot import loglog \n",
    "\n",
    "%matplotlib inline \n"
   ]
  },
  {
   "cell_type": "code",
   "execution_count": 2,
   "metadata": {},
   "outputs": [],
   "source": [
    "df = pd.read_csv('/home/merchantsameer2014/project/dnc-temporalGraph/out.dnc-temporalGraph', sep='\\t', header=None)"
   ]
  },
  {
   "cell_type": "code",
   "execution_count": 3,
   "metadata": {},
   "outputs": [
    {
     "data": {
      "text/html": [
       "<div>\n",
       "<style scoped>\n",
       "    .dataframe tbody tr th:only-of-type {\n",
       "        vertical-align: middle;\n",
       "    }\n",
       "\n",
       "    .dataframe tbody tr th {\n",
       "        vertical-align: top;\n",
       "    }\n",
       "\n",
       "    .dataframe thead th {\n",
       "        text-align: right;\n",
       "    }\n",
       "</style>\n",
       "<table border=\"1\" class=\"dataframe\">\n",
       "  <thead>\n",
       "    <tr style=\"text-align: right;\">\n",
       "      <th></th>\n",
       "      <th>0</th>\n",
       "      <th>1</th>\n",
       "      <th>2</th>\n",
       "      <th>3</th>\n",
       "    </tr>\n",
       "  </thead>\n",
       "  <tbody>\n",
       "    <tr>\n",
       "      <th>0</th>\n",
       "      <td>419</td>\n",
       "      <td>465</td>\n",
       "      <td>1</td>\n",
       "      <td>1463507482</td>\n",
       "    </tr>\n",
       "    <tr>\n",
       "      <th>1</th>\n",
       "      <td>869</td>\n",
       "      <td>453</td>\n",
       "      <td>1</td>\n",
       "      <td>1462337903</td>\n",
       "    </tr>\n",
       "  </tbody>\n",
       "</table>\n",
       "</div>"
      ],
      "text/plain": [
       "     0    1  2           3\n",
       "0  419  465  1  1463507482\n",
       "1  869  453  1  1462337903"
      ]
     },
     "execution_count": 3,
     "metadata": {},
     "output_type": "execute_result"
    }
   ],
   "source": [
    "df.head(2)"
   ]
  },
  {
   "cell_type": "code",
   "execution_count": 4,
   "metadata": {},
   "outputs": [],
   "source": [
    "df.columns = ['src', 'dst', 'weight', 'timestamp']"
   ]
  },
  {
   "cell_type": "code",
   "execution_count": 5,
   "metadata": {},
   "outputs": [
    {
     "data": {
      "text/html": [
       "<div>\n",
       "<style scoped>\n",
       "    .dataframe tbody tr th:only-of-type {\n",
       "        vertical-align: middle;\n",
       "    }\n",
       "\n",
       "    .dataframe tbody tr th {\n",
       "        vertical-align: top;\n",
       "    }\n",
       "\n",
       "    .dataframe thead th {\n",
       "        text-align: right;\n",
       "    }\n",
       "</style>\n",
       "<table border=\"1\" class=\"dataframe\">\n",
       "  <thead>\n",
       "    <tr style=\"text-align: right;\">\n",
       "      <th></th>\n",
       "      <th>src</th>\n",
       "      <th>dst</th>\n",
       "      <th>weight</th>\n",
       "      <th>timestamp</th>\n",
       "    </tr>\n",
       "  </thead>\n",
       "  <tbody>\n",
       "    <tr>\n",
       "      <th>0</th>\n",
       "      <td>419</td>\n",
       "      <td>465</td>\n",
       "      <td>1</td>\n",
       "      <td>1463507482</td>\n",
       "    </tr>\n",
       "    <tr>\n",
       "      <th>1</th>\n",
       "      <td>869</td>\n",
       "      <td>453</td>\n",
       "      <td>1</td>\n",
       "      <td>1462337903</td>\n",
       "    </tr>\n",
       "  </tbody>\n",
       "</table>\n",
       "</div>"
      ],
      "text/plain": [
       "   src  dst  weight   timestamp\n",
       "0  419  465       1  1463507482\n",
       "1  869  453       1  1462337903"
      ]
     },
     "execution_count": 5,
     "metadata": {},
     "output_type": "execute_result"
    }
   ],
   "source": [
    "df.head(2)"
   ]
  },
  {
   "cell_type": "code",
   "execution_count": 6,
   "metadata": {},
   "outputs": [],
   "source": [
    "def ProcessEdgeRow(row, Graph):\n",
    "    src = row['src']\n",
    "    dst = row['dst']\n",
    "    timestamp = row['timestamp']\n",
    "    \n",
    "    if not Graph.IsNode(src):\n",
    "        Graph.AddNode(src)\n",
    "    \n",
    "    if not Graph.IsNode(dst):\n",
    "        Graph.AddNode(dst)\n",
    "        \n",
    "    if not Graph.IsEdge(src, dst):\n",
    "        EId = Graph.AddEdge(src, dst)   \n",
    "    else:\n",
    "        EId = Graph.GetEI(src, dst) \n",
    "    \n",
    "    Graph.AddIntAttrDatE(EId, timestamp, 'timestamp')\n",
    "        \n",
    "    return\n",
    "        "
   ]
  },
  {
   "cell_type": "code",
   "execution_count": 7,
   "metadata": {},
   "outputs": [],
   "source": [
    "def GenerateDirectedGraph(df):\n",
    "    '''\n",
    "    Returns a TNEANet Graph object \n",
    "    '''\n",
    "    Graph = snap.TNEANet.New()\n",
    "    df.apply(ProcessEdgeRow, axis=1, Graph=Graph)\n",
    "\n",
    "    return Graph"
   ]
  },
  {
   "cell_type": "code",
   "execution_count": 8,
   "metadata": {},
   "outputs": [],
   "source": [
    "G = GenerateDirectedGraph(df)"
   ]
  },
  {
   "cell_type": "code",
   "execution_count": 9,
   "metadata": {},
   "outputs": [
    {
     "name": "stdout",
     "output_type": "stream",
     "text": [
      "Nodes:  1891\n",
      "Edges:  5598\n"
     ]
    }
   ],
   "source": [
    "print \"Nodes: \", G.GetNodes()\n",
    "print \"Edges: \", G.GetEdges()"
   ]
  },
  {
   "cell_type": "markdown",
   "metadata": {},
   "source": [
    "## Get Raw Statistics \n",
    "\n",
    "    1. Degree Centrality \n",
    "    2. Clustering Coefficient \n",
    "    3. Mean shortest path from each node \n",
    "    4. Betweeness Centralitily \n",
    "    5. Hub and Authority Score "
   ]
  },
  {
   "cell_type": "code",
   "execution_count": 41,
   "metadata": {},
   "outputs": [],
   "source": [
    "NodeAttributes = dict()"
   ]
  },
  {
   "cell_type": "markdown",
   "metadata": {},
   "source": [
    "#### Step 1: Degree Centrality"
   ]
  },
  {
   "cell_type": "code",
   "execution_count": 42,
   "metadata": {},
   "outputs": [],
   "source": [
    "#\n",
    "# 1. Degree Centrality \n",
    "#    Get In Degree and Out Degree for each node \n",
    "#\n",
    "InDegV = snap.TIntPrV()\n",
    "OutDegV = snap.TIntPrV()\n",
    "\n",
    "snap.GetNodeOutDegV(G, OutDegV)\n",
    "snap.GetNodeInDegV(G, InDegV)\n",
    "\n",
    "InDegreeList = [ (item.GetVal1(), item.GetVal2()) for item in InDegV ]\n",
    "OutDegreeList = [ (item.GetVal1(), item.GetVal2()) for item in OutDegV ]"
   ]
  },
  {
   "cell_type": "code",
   "execution_count": 43,
   "metadata": {},
   "outputs": [],
   "source": [
    "InDegreeList.sort(key=lambda x: x[1], reverse=True)\n",
    "OutDegreeList.sort(key=lambda x: x[1], reverse=True)\n",
    "\n",
    "minOutDegree = min(OutDegreeList, key = lambda x: x[1])[1]\n",
    "maxOutDegree = max(OutDegreeList, key = lambda x: x[1])[1]\n",
    "minInDegree = min(InDegreeList, key = lambda x: x[1])[1]\n",
    "maxInDegree = max(InDegreeList, key = lambda x: x[1])[1]"
   ]
  },
  {
   "cell_type": "code",
   "execution_count": 44,
   "metadata": {},
   "outputs": [
    {
     "name": "stdout",
     "output_type": "stream",
     "text": [
      "331 0 249 0\n",
      "(1874, 249) (893, 0)\n"
     ]
    }
   ],
   "source": [
    "#\n",
    "# Sanity Check \n",
    "print maxOutDegree, minOutDegree, maxInDegree, minInDegree\n",
    "print InDegreeList[0], InDegreeList[-1]"
   ]
  },
  {
   "cell_type": "code",
   "execution_count": 45,
   "metadata": {},
   "outputs": [],
   "source": [
    "for (nodeId, Degree) in InDegreeList:\n",
    "    if not NodeAttributes.get(nodeId, None):\n",
    "        NodeAttributes[nodeId] = dict()\n",
    "    NodeAttributes[nodeId]['InDegree'] = Degree\n",
    "    normalizedDegree = (float(Degree) - float(minInDegree))/(float(maxInDegree - float(minInDegree)))\n",
    "    NodeAttributes[nodeId]['NormInDegree'] = normalizedDegree\n",
    "\n",
    "for (nodeId, Degree) in OutDegreeList: \n",
    "    NodeAttributes[nodeId]['OutDegree'] = Degree\n",
    "    normalizedDegree = (float(Degree) - float(minOutDegree))/(float(maxOutDegree - float(minOutDegree)))\n",
    "    NodeAttributes[nodeId]['NormOutDegree'] = normalizedDegree"
   ]
  },
  {
   "cell_type": "code",
   "execution_count": 47,
   "metadata": {},
   "outputs": [
    {
     "name": "stdout",
     "output_type": "stream",
     "text": [
      "{'InDegree': 249, 'NormInDegree': 1.0, 'NormOutDegree': 1.0, 'OutDegree': 331}\n",
      "{'InDegree': 0, 'NormInDegree': 0.0, 'NormOutDegree': 0.0030211480362537764, 'OutDegree': 1}\n"
     ]
    }
   ],
   "source": [
    "#\n",
    "# Sanity Check \n",
    "#\n",
    "print NodeAttributes[1874]\n",
    "print NodeAttributes[893]"
   ]
  },
  {
   "cell_type": "code",
   "execution_count": 48,
   "metadata": {},
   "outputs": [
    {
     "data": {
      "image/png": "[encoded data removed]",
      "text/plain": [
       "<Figure size 1080x1080 with 1 Axes>"
      ]
     },
     "metadata": {
      "needs_background": "light"
     },
     "output_type": "display_data"
    }
   ],
   "source": [
    "\n",
    "#\n",
    "# Get Degree Distribution \n",
    "# \n",
    "OutDegToCntV = snap.TIntPrV()\n",
    "snap.GetOutDegCnt(G, OutDegToCntV)\n",
    "count = 0\n",
    "nodeList = []\n",
    "degreeList = []\n",
    "for item in OutDegToCntV:\n",
    "    (n, d) = (item.GetVal2(), item.GetVal1())\n",
    "    nodeList.append(n)\n",
    "    degreeList.append(d)\n",
    "x = np.array( [ np.log10(item.GetVal1()) for itemm in OutDegToCntV if item.GetVal1() > 0 ] )\n",
    "y = np.array( [ np.log10(item.GetVal2()) for item in OutDegToCntV if item.GetVal2() > 0 ] )\n",
    "#\n",
    "# Plot Degree Distribution\n",
    "#\n",
    "plt.figure(figsize=(15,15))\n",
    "loglog(degreeList, nodeList, 'bo')\n",
    "#plt.plot(x_plot, 10**b*x_plot**a, 'r-')\n",
    "plt.title(\"LogLog plot of out-degree distribution\")\n",
    "plt.show()"
   ]
  },
  {
   "cell_type": "markdown",
   "metadata": {},
   "source": [
    "#### Step 2: Clustering Coefficient"
   ]
  },
  {
   "cell_type": "code",
   "execution_count": 49,
   "metadata": {},
   "outputs": [],
   "source": [
    "NIdCCfH = snap.TIntFltH()\n",
    "snap.GetNodeClustCf(G, NIdCCfH)\n",
    "ClusterCoeffList = list()\n",
    "for nodeId in NIdCCfH:\n",
    "    NodeAttributes[nodeId]['ClusterCoeff'] = NIdCCfH[nodeId]\n",
    "    ClusterCoeffList.append((nodeId, NIdCCfH[nodeId]))"
   ]
  },
  {
   "cell_type": "code",
   "execution_count": 50,
   "metadata": {},
   "outputs": [],
   "source": [
    "ClusterCoeffList.sort(key=lambda x: x[1], reverse=True)\n",
    "minClusterCoeff = min(ClusterCoeffList, key=lambda x: x[1])[1]\n",
    "maxClusterCoeff = max(ClusterCoeffList, key=lambda x: x[1])[1]"
   ]
  },
  {
   "cell_type": "code",
   "execution_count": 51,
   "metadata": {},
   "outputs": [
    {
     "name": "stdout",
     "output_type": "stream",
     "text": [
      "(1753, 1.0) 1.0 (1381, 0.0) 0.0\n"
     ]
    }
   ],
   "source": [
    "#\n",
    "# Sanity Check \n",
    "#\n",
    "print ClusterCoeffList[1], maxClusterCoeff, ClusterCoeffList[-1], minClusterCoeff"
   ]
  },
  {
   "cell_type": "code",
   "execution_count": 52,
   "metadata": {},
   "outputs": [],
   "source": [
    "NIdCCfH = snap.TIntFltH()\n",
    "snap.GetNodeClustCf(G, NIdCCfH)\n",
    "ClusterCoeffList = list()\n",
    "for nodeId in NIdCCfH:\n",
    "    clusterCoeff = NIdCCfH[nodeId]\n",
    "    normClusterCoeff = (clusterCoeff - minClusterCoeff)/(maxClusterCoeff - minClusterCoeff)\n",
    "    NodeAttributes[nodeId]['NormClusterCoeff'] = normClusterCoeff"
   ]
  },
  {
   "cell_type": "code",
   "execution_count": 54,
   "metadata": {},
   "outputs": [
    {
     "name": "stdout",
     "output_type": "stream",
     "text": [
      "{'NormOutDegree': 0.0, 'ClusterCoeff': 0.6666666666666666, 'InDegree': 3, 'OutDegree': 0, 'NormInDegree': 0.012048192771084338, 'NormClusterCoeff': 0.6666666666666666}\n"
     ]
    }
   ],
   "source": [
    "print NodeAttributes[2012]"
   ]
  },
  {
   "cell_type": "markdown",
   "metadata": {},
   "source": [
    "#### Step 3: Avergate shortest path length"
   ]
  },
  {
   "cell_type": "code",
   "execution_count": 57,
   "metadata": {},
   "outputs": [],
   "source": [
    "nodeCount = float(G.GetNodes() - 1)\n",
    "avgShortPathLenList = list()\n",
    "for src in G.Nodes():\n",
    "    srcId = src.GetId()\n",
    "    totalShortPathLength = 0 \n",
    "    \n",
    "    for dst in G.Nodes():\n",
    "        dstId = dst.GetId()\n",
    "        #\n",
    "        # Skip Self Edges\n",
    "        #\n",
    "        if srcId == dstId:\n",
    "            continue\n",
    "            \n",
    "        #\n",
    "        # Compute Shortest Path \n",
    "        #\n",
    "        l = snap.GetShortPath(G, srcId, dstId, True)\n",
    "        \n",
    "        #\n",
    "        # Skip nodes that cannot be reached \n",
    "        #\n",
    "        if l < 0:\n",
    "            continue\n",
    "            \n",
    "        totalShortPathLength += float(l) \n",
    "    NodeAttributes[srcId]['AvgShortPathLen'] = totalShortPathLength/nodeCount\n",
    "    avgShortPathLenList.append((srcId, totalShortPathLength/nodeCount))"
   ]
  },
  {
   "cell_type": "code",
   "execution_count": 58,
   "metadata": {},
   "outputs": [],
   "source": [
    "minAvgShortPathLength = min(avgShortPathLenList, key=lambda x: x[1])[1]\n",
    "maxAvgShortPathLength = max(avgShortPathLenList, key=lambda x: x[1])[1]"
   ]
  },
  {
   "cell_type": "code",
   "execution_count": 61,
   "metadata": {},
   "outputs": [],
   "source": [
    "for (node, spLen) in avgShortPathLenList:\n",
    "    normAvgShortPath = (spLen - minAvgShortPathLength)/(maxAvgShortPathLength - minAvgShortPathLength)\n",
    "    NodeAttributes[node]['normAvgShortPathLen'] = normAvgShortPath"
   ]
  },
  {
   "cell_type": "code",
   "execution_count": 62,
   "metadata": {},
   "outputs": [
    {
     "name": "stdout",
     "output_type": "stream",
     "text": [
      "{'NormOutDegree': 0.0030211480362537764, 'ClusterCoeff': 0.3333333333333333, 'normAvgShortPathLen': 1.0, 'InDegree': 2, 'OutDegree': 1, 'NormInDegree': 0.008032128514056224, 'NormClusterCoeff': 0.3333333333333333, 'AvgShortPathLen': 4.321164021164021}\n"
     ]
    }
   ],
   "source": [
    "print NodeAttributes[480]"
   ]
  },
  {
   "cell_type": "markdown",
   "metadata": {},
   "source": [
    "#### Step 4: Betweeness Centrality"
   ]
  },
  {
   "cell_type": "code",
   "execution_count": 64,
   "metadata": {},
   "outputs": [],
   "source": [
    "Nodes = snap.TIntFltH()\n",
    "Edges = snap.TIntPrFltH()\n",
    "BetweenessNodeList = list()\n",
    "BetweenessEdgeList = list()\n",
    "\n",
    "snap.GetBetweennessCentr(G, Nodes, Edges, 1.0)\n",
    "for node in Nodes:\n",
    "    NodeAttributes[node]['Betweeness'] = Nodes[node]\n",
    "    BetweenessNodeList.append((node, Nodes[node]))\n",
    "\n",
    "for edge in Edges:\n",
    "    #print \"edge: (%d, %d) centrality: %f\" % (edge.GetVal1(), edge.GetVal2(), Edges[edge])\n",
    "    BetweenessEdgeList.append((edge.GetVal1(), edge.GetVal2(), Edges[edge]))\n",
    "\n",
    "BetweenessNodeList.sort(key=lambda x: x[1], reverse=True) \n",
    "BetweenessEdgeList.sort(key=lambda x: x[2], reverse=True)"
   ]
  },
  {
   "cell_type": "code",
   "execution_count": 65,
   "metadata": {},
   "outputs": [
    {
     "name": "stdout",
     "output_type": "stream",
     "text": [
      "(1669, 556845.3564806876) (884, 0.0)\n"
     ]
    }
   ],
   "source": [
    "print BetweenessNodeList[0], BetweenessNodeList[-1]"
   ]
  },
  {
   "cell_type": "code",
   "execution_count": 66,
   "metadata": {},
   "outputs": [],
   "source": [
    "minBetweeness = BetweenessNodeList[-1][1]\n",
    "maxBetweeness = BetweenessNodeList[0][1]\n",
    "for (node, betweeness) in BetweenessNodeList:\n",
    "    normBetweeness = (betweeness - minBetweeness)/(maxBetweeness - minBetweeness)\n",
    "    NodeAttributes[node]['normBetweeness'] = normBetweeness\n",
    "    "
   ]
  },
  {
   "cell_type": "code",
   "execution_count": 68,
   "metadata": {},
   "outputs": [
    {
     "name": "stdout",
     "output_type": "stream",
     "text": [
      "{'NormOutDegree': 0.7311178247734139, 'ClusterCoeff': 0.0007700181235972993, 'normAvgShortPathLen': 0.33304763070895066, 'InDegree': 222, 'normBetweeness': 1.0, 'OutDegree': 242, 'NormInDegree': 0.891566265060241, 'NormClusterCoeff': 0.0007700181235972993, 'Betweeness': 556845.3564806876, 'AvgShortPathLen': 1.439153439153439}\n",
      "{'NormOutDegree': 0.0, 'ClusterCoeff': 0.0, 'normAvgShortPathLen': 0.0, 'InDegree': 1, 'normBetweeness': 0.0, 'OutDegree': 0, 'NormInDegree': 0.004016064257028112, 'NormClusterCoeff': 0.0, 'Betweeness': 0.0, 'AvgShortPathLen': 0.0}\n"
     ]
    }
   ],
   "source": [
    "print NodeAttributes[1669]\n",
    "print NodeAttributes[884]"
   ]
  },
  {
   "cell_type": "markdown",
   "metadata": {},
   "source": [
    "#### Step 5: Get Auth and Hub Score"
   ]
  },
  {
   "cell_type": "code",
   "execution_count": 69,
   "metadata": {},
   "outputs": [],
   "source": [
    "NIdHubH = snap.TIntFltH()\n",
    "NIdAuthH = snap.TIntFltH()\n",
    "snap.GetHits(G, NIdHubH, NIdAuthH)\n",
    "HubNodes = []\n",
    "for nodeId in  NIdHubH:\n",
    "    HubNodes.append((nodeId,  NIdHubH[nodeId]))\n",
    "    NodeAttributes[nodeId]['HubScore'] = NIdHubH[nodeId]\n",
    "    \n",
    "HubNodes.sort(key = lambda x: x[1], reverse=True)\n",
    "\n",
    "AuthNodes = []\n",
    "for nodeId in  NIdAuthH:\n",
    "    AuthNodes.append((nodeId,  NIdAuthH[nodeId])) \n",
    "    NodeAttributes[nodeId]['AuthScore'] = NIdAuthH[nodeId]\n",
    "AuthNodes.sort(key = lambda x: x[1], reverse=True)\n"
   ]
  },
  {
   "cell_type": "code",
   "execution_count": 70,
   "metadata": {},
   "outputs": [
    {
     "name": "stdout",
     "output_type": "stream",
     "text": [
      "(1874, 0.30510831720503034) (893, 0.0)\n",
      "(1874, 0.38410704002084095) (884, 0.0)\n"
     ]
    }
   ],
   "source": [
    "print AuthNodes[0], AuthNodes[-1]\n",
    "print HubNodes[0], HubNodes[-1]"
   ]
  },
  {
   "cell_type": "code",
   "execution_count": 71,
   "metadata": {},
   "outputs": [],
   "source": [
    "minAuthNodes = AuthNodes[-1][1]\n",
    "maxAuthNodes = AuthNodes[0][1]\n",
    "minHubNodes = HubNodes[-1][1]\n",
    "maxHubNodes = HubNodes[0][1]"
   ]
  },
  {
   "cell_type": "code",
   "execution_count": 72,
   "metadata": {},
   "outputs": [],
   "source": [
    "for (node, hubScore) in HubNodes:\n",
    "    normHubScore = (hubScore - minHubNodes)/(maxHubNodes - minHubNodes)\n",
    "    NodeAttributes[node]['normHubScore'] = normHubScore\n",
    "    \n",
    "for (node, authScore) in AuthNodes:\n",
    "    normAuthScore = (authScore - minAuthNodes)/(maxAuthNodes - minAuthNodes)\n",
    "    NodeAttributes[node]['normAuthScore'] = normAuthScore"
   ]
  },
  {
   "cell_type": "code",
   "execution_count": 73,
   "metadata": {},
   "outputs": [
    {
     "name": "stdout",
     "output_type": "stream",
     "text": [
      "{'NormOutDegree': 1.0, 'ClusterCoeff': 0.0014452513597956258, 'normAvgShortPathLen': 0.33696583812905595, 'InDegree': 249, 'normBetweeness': 0.8890896997683746, 'normAuthScore': 1.0, 'OutDegree': 331, 'AuthScore': 0.30510831720503034, 'NormInDegree': 1.0, 'normHubScore': 1.0, 'NormClusterCoeff': 0.0014452513597956258, 'HubScore': 0.38410704002084095, 'Betweeness': 495085.4708108281, 'AvgShortPathLen': 1.456084656084656}\n",
      "{'NormOutDegree': 0.0030211480362537764, 'ClusterCoeff': 0.0, 'normAvgShortPathLen': 0.0001224439818782907, 'InDegree': 0, 'normBetweeness': 0.0, 'normAuthScore': 0.0, 'OutDegree': 1, 'AuthScore': 0.0, 'NormInDegree': 0.0, 'normHubScore': 0.00048173348087729835, 'NormClusterCoeff': 0.0, 'HubScore': 0.00018503722141871546, 'Betweeness': 0.0, 'AvgShortPathLen': 0.0005291005291005291}\n"
     ]
    }
   ],
   "source": [
    "print NodeAttributes[1874]\n",
    "print NodeAttributes[893]"
   ]
  },
  {
   "cell_type": "markdown",
   "metadata": {},
   "source": [
    "## Automatic Social Hierarchy Detection From Email Network \n",
    "\n",
    "### Steps \n",
    "\n",
    "    1. Compute node's importance on response time for email  \n",
    "    2. Get all Cliques (Algorithm 457)\n",
    "    3. Number of clique each node is part of \n",
    "    4. Raw Clique Score computed using \n",
    "    \n",
    " $$R*2^{n-1}$$\n",
    " \n",
    "    5. Weighted Clique Score (Based on importance of a person) \n",
    "    \n",
    " $$W = t*2^{n-1}$$\n",
    " "
   ]
  },
  {
   "cell_type": "markdown",
   "metadata": {},
   "source": [
    "### Use networkx library for Clique analysis \n",
    "\n",
    "    1. Build a multigraph with edges for each (src, dst, timestamp) entry in the email data set \n",
    "    2. Build undirected graph with edges between nodes only when email count exceeds N=4 between two those nodes \n",
    "    "
   ]
  },
  {
   "cell_type": "code",
   "execution_count": 74,
   "metadata": {},
   "outputs": [],
   "source": [
    "def ProcessNxEdgeRow(row, Graph):\n",
    "    src = row['src']\n",
    "    dst = row['dst']\n",
    "    timestamp = row['timestamp']\n",
    "    \n",
    "    Graph.add_node(src)\n",
    "    Graph.add_node(dst)\n",
    "    Graph.add_edge(src, dst, timestamp=timestamp)\n",
    "        \n",
    "    return\n",
    "        "
   ]
  },
  {
   "cell_type": "code",
   "execution_count": 75,
   "metadata": {},
   "outputs": [],
   "source": [
    "def GenerateDirectedNxGraph(df):\n",
    "    '''\n",
    "    Returns a TNEANet Graph object \n",
    "    '''\n",
    "    Graph = nx.MultiDiGraph(name=\"DNC Email Network\")\n",
    "    df.apply(ProcessNxEdgeRow, axis=1, Graph=Graph)\n",
    "\n",
    "    return Graph"
   ]
  },
  {
   "cell_type": "code",
   "execution_count": 76,
   "metadata": {},
   "outputs": [],
   "source": [
    "GNx = GenerateDirectedNxGraph(df)"
   ]
  },
  {
   "cell_type": "code",
   "execution_count": 77,
   "metadata": {},
   "outputs": [
    {
     "name": "stdout",
     "output_type": "stream",
     "text": [
      "Networkx Nodes:  1891\n",
      "Networkx Edges:  39264\n"
     ]
    }
   ],
   "source": [
    "print \"Networkx Nodes: \", GNx.number_of_nodes()\n",
    "print \"Networkx Edges: \", GNx.number_of_edges()"
   ]
  },
  {
   "cell_type": "markdown",
   "metadata": {},
   "source": [
    "#### Prune all edges with N <=4 emails exchanged\n",
    "As per the paper - consider edges between nodes only if the nodes have exchanged > N messages\n",
    "N is a tunable parameter \n",
    "\n",
    "DNC email has a median of message exchanged = 2 "
   ]
  },
  {
   "cell_type": "code",
   "execution_count": 78,
   "metadata": {},
   "outputs": [],
   "source": [
    "edgeCount = dict()\n",
    "for edge in GNx.edges():\n",
    "    if not edgeCount.get(edge, None):\n",
    "        edgeCount[edge] = 0\n",
    "    edgeCount[edge] += 1      "
   ]
  },
  {
   "cell_type": "code",
   "execution_count": 79,
   "metadata": {},
   "outputs": [],
   "source": [
    "emailDist= [ v for k, v in edgeCount.iteritems() ]\n",
    "emailDist.sort(reverse=True)"
   ]
  },
  {
   "cell_type": "code",
   "execution_count": 80,
   "metadata": {},
   "outputs": [
    {
     "name": "stdout",
     "output_type": "stream",
     "text": [
      "731 1 2.0 5598\n"
     ]
    }
   ],
   "source": [
    "print emailDist[0], emailDist[-1], np.median(emailDist), len(emailDist)"
   ]
  },
  {
   "cell_type": "code",
   "execution_count": 81,
   "metadata": {},
   "outputs": [],
   "source": [
    "N = 4\n",
    "pruneList = [ k for k, v in edgeCount.iteritems() if v <= N ]\n",
    "prunedEdgeList = [ k for k, v in edgeCount.iteritems() if v > N ]"
   ]
  },
  {
   "cell_type": "markdown",
   "metadata": {},
   "source": [
    "### Generate undirected graph with edges between nodes with email count > N"
   ]
  },
  {
   "cell_type": "code",
   "execution_count": 82,
   "metadata": {},
   "outputs": [
    {
     "name": "stdout",
     "output_type": "stream",
     "text": [
      "Networkx Nodes:  452\n",
      "Networkx Edges:  1139\n"
     ]
    }
   ],
   "source": [
    "uGNx = nx.Graph()\n",
    "\n",
    "for edge in prunedEdgeList:\n",
    "    (src, dst) = edge\n",
    "    uGNx.add_edge(src, dst)\n",
    "    \n",
    "print \"Networkx Nodes: \", uGNx.number_of_nodes()\n",
    "print \"Networkx Edges: \", uGNx.number_of_edges() "
   ]
  },
  {
   "cell_type": "markdown",
   "metadata": {},
   "source": [
    "### Step 1: Compute Nodes importance on email response time "
   ]
  },
  {
   "cell_type": "markdown",
   "metadata": {},
   "source": [
    "### Approach 1: Based on Rowe et. al. paper \n",
    "\n",
    "Use response time to measure importance of a node \n",
    "\n",
    "    1. For each node get all the out bound email timestamps \n",
    "    2. For each email sent - check the response time from the receiver \n",
    "    3. Consider responses within a day for computing time score. \n",
    "    4. Consider response time for nodes that have exchanged at least 100 emails \n",
    "       (fewer emails with high response time can falsely promote node based on time score)\n",
    " "
   ]
  },
  {
   "cell_type": "code",
   "execution_count": 160,
   "metadata": {},
   "outputs": [],
   "source": [
    "temporalMap = dict()\n",
    "for n, nbrs in GNx.adjacency():\n",
    "    temporalMap[n] = dict()\n",
    "    for nbr, edict in nbrs.items():\n",
    "        t1 = [d['timestamp'] for d in edict.values()]\n",
    "        t1.sort()\n",
    "        temporalMap[n][nbr] = t1 "
   ]
  },
  {
   "cell_type": "code",
   "execution_count": 197,
   "metadata": {},
   "outputs": [],
   "source": [
    "avgNodeResponse = list()\n",
    "\n",
    "for src, destinations in temporalMap.iteritems():\n",
    "    totalRequestResp = 0\n",
    "    totalResponseTime = 0.0\n",
    "    \n",
    "    for dst, reqTimestamps in destinations.iteritems():\n",
    "        responseTime = None\n",
    "        #\n",
    "        # Walk through ALl requests sent to a destination\n",
    "        #\n",
    "        for req in reqTimestamps:\n",
    "            reqTime = datetime.fromtimestamp(req)\n",
    "        \n",
    "            #\n",
    "            # Look for response time from the destinaton to ths source\n",
    "            #\n",
    "            for resp in temporalMap[dst].get(src, list()):\n",
    "                respTime = datetime.fromtimestamp(resp)\n",
    "            \n",
    "                if resp < req:\n",
    "                    #\n",
    "                    # Look for first response after the request time \n",
    "                    #\n",
    "                    continue\n",
    "            \n",
    "                deltaTime = respTime - reqTime\n",
    "            \n",
    "                if deltaTime.total_seconds() > 86400:\n",
    "                    #\n",
    "                    # If response time exceeds a day don't \n",
    "                    # consider it as a response\n",
    "                    break\n",
    "                    \n",
    "                #print \"Found Response time: src: %d, dst: %d req: %s, resp: %s\" % (src, dst, reqTime, respTime)\n",
    "                \n",
    "                totalRequestResp += 1\n",
    "                totalResponseTime += deltaTime.total_seconds()\n",
    "                break\n",
    "    #\n",
    "    # Compute average across all dst response times \n",
    "    #\n",
    "    if totalRequestResp > 0 and totalResponseTime > 0:\n",
    "        avgResponse = totalResponseTime/totalRequestResp\n",
    "    else:\n",
    "        #\n",
    "        # Set default response to 7 day \n",
    "        #\n",
    "        avgResponse = float(7*86400)\n",
    "    #\n",
    "    # Lower response Higher the timeScore \n",
    "    # \n",
    "    timeScore = 1/avgResponse\n",
    "    avgNodeResponse.append((src, timeScore, totalResponseTime, totalRequestResp ))\n",
    "        "
   ]
  },
  {
   "cell_type": "code",
   "execution_count": 213,
   "metadata": {},
   "outputs": [],
   "source": [
    "avgNodeTimeScore = list()\n",
    "\n",
    "#\n",
    "# Ignore response time for email exchanges fewer than 10\n",
    "#\n",
    "for x in avgNodeResponse:\n",
    "    (src, timeScore, totalResponseTime, totalRequestResp) = x\n",
    "    \n",
    "    if totalRequestResp <= 200:\n",
    "        timeScore = 1.0/float(7*86400)\n",
    "        \n",
    "    avgNodeTimeScore.append((src, timeScore, totalResponseTime, totalRequestResp))\n",
    "        \n",
    "avgNodeTimeScore.sort(key=lambda x: x[1], reverse=True)\n"
   ]
  },
  {
   "cell_type": "code",
   "execution_count": 214,
   "metadata": {},
   "outputs": [
    {
     "name": "stdout",
     "output_type": "stream",
     "text": [
      "(2029, 1.6534391534391535e-06, 0.0, 0)\n",
      "[(1625, 0.0020221266801294163, 368424.0, 745), (895, 0.00011885108532413246, 1918367.0, 228)]\n"
     ]
    }
   ],
   "source": [
    "print avgNodeTimeScore[-1]\n",
    "print avgNodeTimeScore[:2]"
   ]
  },
  {
   "cell_type": "code",
   "execution_count": 215,
   "metadata": {},
   "outputs": [
    {
     "name": "stdout",
     "output_type": "stream",
     "text": [
      "{'NormOutDegree': 0.030211480362537766, 'ClusterCoeff': 0.05714285714285714, 'normAvgShortPathLen': 0.4491245255295702, 'InDegree': 7, 'normBetweeness': 0.007319923714214854, 'normAuthScore': 0.12096933772423019, 'OutDegree': 10, 'AuthScore': 0.036908751066446865, 'NormInDegree': 0.028112449799196786, 'normHubScore': 0.09633108380044303, 'NormClusterCoeff': 0.05714285714285714, 'HubScore': 0.037001447460587755, 'Betweeness': 4076.0655300534095, 'AvgShortPathLen': 1.9407407407407407}\n"
     ]
    }
   ],
   "source": [
    "print NodeAttributes[1625]"
   ]
  },
  {
   "cell_type": "code",
   "execution_count": 220,
   "metadata": {},
   "outputs": [],
   "source": [
    "normTimeScore = dict()\n",
    "minAvgTimeScore = avgNodeTimeScore[-1][1]\n",
    "maxAvgTimeScore = avgNodeTimeScore[0][1]\n",
    "\n",
    "for (node, timeScore, _, _) in avgNodeTimeScore:\n",
    "    normTimeScore[node] = (timeScore - minAvgTimeScore)/(maxAvgTimeScore - minAvgTimeScore)"
   ]
  },
  {
   "cell_type": "code",
   "execution_count": 223,
   "metadata": {},
   "outputs": [
    {
     "data": {
      "text/plain": [
       "1.0"
      ]
     },
     "execution_count": 223,
     "metadata": {},
     "output_type": "execute_result"
    }
   ],
   "source": [
    "normTimeScore[1625]"
   ]
  },
  {
   "cell_type": "code",
   "execution_count": 232,
   "metadata": {},
   "outputs": [],
   "source": [
    "nodeCliqueCount = dict()\n",
    "rawCliqueScore = dict()\n",
    "weightedCliqueScore = dict()\n",
    "\n",
    "#\n",
    "# Find all maximal cliques \n",
    "# \n",
    "for clique in nx.find_cliques(uGNx):\n",
    "    for node in clique:\n",
    "        \n",
    "        if not nodeCliqueCount.get(node, None):\n",
    "            nodeCliqueCount[node] = 0\n",
    "            \n",
    "        if not rawCliqueScore.get(node, None):\n",
    "            rawCliqueScore[node] = 0\n",
    "        \n",
    "        if not weightedCliqueScore.get(node, None):\n",
    "            weightedCliqueScore[node] = 0\n",
    "            \n",
    "        nodeCliqueCount[node] += 1 \n",
    "        \n",
    "        n = len(clique)\n",
    "        \n",
    "        rawCliqueScore[node] += 2**n\n",
    "        \n",
    "        weightedCliqueScore[node] += (2**n)*normTimeScore[node]"
   ]
  },
  {
   "cell_type": "code",
   "execution_count": 236,
   "metadata": {},
   "outputs": [],
   "source": [
    "#\n",
    "# Get a sorted list of nodes based on their clique count \n",
    "#\n",
    "nodeCliqueList = [ (k, v) for k, v in nodeCliqueCount.iteritems() ]\n",
    "nodeCliqueList.sort(key=lambda x: x[1], reverse=True )"
   ]
  },
  {
   "cell_type": "code",
   "execution_count": 237,
   "metadata": {},
   "outputs": [],
   "source": [
    "rawCliqueList = [ (k, v) for k, v in rawCliqueScore.iteritems() ]\n",
    "rawCliqueList.sort(key=lambda x: x[1], reverse=True )"
   ]
  },
  {
   "cell_type": "code",
   "execution_count": 238,
   "metadata": {},
   "outputs": [],
   "source": [
    "weightedCliqueList = [ (k, v) for k, v in weightedCliqueScore.iteritems() ]\n",
    "weightedCliqueList.sort(key=lambda x: x[1], reverse=True )"
   ]
  },
  {
   "cell_type": "code",
   "execution_count": 239,
   "metadata": {},
   "outputs": [
    {
     "name": "stdout",
     "output_type": "stream",
     "text": [
      "[(1874, 157), (1839, 123), (1669, 104), (999, 79), (1258, 79), (1369, 76), (453, 75), (585, 66), (1144, 57), (1159, 46)]\n",
      "[(1874, 29604), (999, 27636), (1258, 27616), (511, 22656), (1369, 21044), (1974, 18560), (1998, 18416), (585, 17972), (1144, 12248), (1899, 10304)]\n",
      "[(1258, 1133.2113553681547), (1874, 1079.971912453243), (999, 887.6525051646298), (511, 671.973655462151), (1998, 455.752744276308), (585, 335.72489139325376), (1669, 246.35443082589936), (1440, 223.6014465859277), (1287, 134.0397246718862), (453, 98.89859633344226)]\n"
     ]
    }
   ],
   "source": [
    "print nodeCliqueList[:10]\n",
    "print rawCliqueList[:10]\n",
    "print weightedCliqueList[:10]"
   ]
  },
  {
   "cell_type": "code",
   "execution_count": 242,
   "metadata": {},
   "outputs": [],
   "source": [
    "minNodeCliqueCount = nodeCliqueList[-1][1]\n",
    "maxNodeCliqueCount = nodeCliqueList[0][1]\n",
    "\n",
    "minRawCliqueScore = rawCliqueList[-1][1]\n",
    "maxRawCliqueScore = rawCliqueList[0][1]\n",
    "\n",
    "minWeightedCliqueScore = weightedCliqueList[-1][1]\n",
    "maxWeightedCliqueScore = weightedCliqueList[0][1]"
   ]
  },
  {
   "cell_type": "code",
   "execution_count": 243,
   "metadata": {},
   "outputs": [],
   "source": [
    "for node, score in nodeCliqueList:\n",
    "    NodeAttributes[node]['nodeClique'] = score\n",
    "    NodeAttributes[node]['normNodeClique'] = float(score - minNodeCliqueCount)/float(maxNodeCliqueCount - minNodeCliqueCount)"
   ]
  },
  {
   "cell_type": "code",
   "execution_count": 245,
   "metadata": {},
   "outputs": [],
   "source": [
    "for node, score in rawCliqueList:\n",
    "    NodeAttributes[node]['rawClique'] = score\n",
    "    NodeAttributes[node]['normRawClique'] = float(score - minRawCliqueScore)/float(maxRawCliqueScore - minRawCliqueScore)"
   ]
  },
  {
   "cell_type": "code",
   "execution_count": 247,
   "metadata": {},
   "outputs": [],
   "source": [
    "for node, score in weightedCliqueList:\n",
    "    NodeAttributes[node]['weigthedClique'] = score\n",
    "    NodeAttributes[node]['normWeightedClique'] = float(score - minWeightedCliqueScore)/float(maxWeightedCliqueScore - minWeightedCliqueScore)"
   ]
  },
  {
   "cell_type": "code",
   "execution_count": 248,
   "metadata": {},
   "outputs": [
    {
     "data": {
      "text/plain": [
       "{'AuthScore': 0.30510831720503034,\n",
       " 'AvgShortPathLen': 1.456084656084656,\n",
       " 'Betweeness': 495085.4708108281,\n",
       " 'ClusterCoeff': 0.0014452513597956258,\n",
       " 'HubScore': 0.38410704002084095,\n",
       " 'InDegree': 249,\n",
       " 'NormClusterCoeff': 0.0014452513597956258,\n",
       " 'NormInDegree': 1.0,\n",
       " 'NormOutDegree': 1.0,\n",
       " 'OutDegree': 331,\n",
       " 'nodeClique': 157,\n",
       " 'normAuthScore': 1.0,\n",
       " 'normAvgShortPathLen': 0.33696583812905595,\n",
       " 'normBetweeness': 0.8890896997683746,\n",
       " 'normHubScore': 1.0,\n",
       " 'normNodeClique': 1.0,\n",
       " 'normRawClique': 1.0,\n",
       " 'normWeightedClique': 0.9530189645005671,\n",
       " 'rawClique': 29604,\n",
       " 'weigthedClique': 1079.971912453243}"
      ]
     },
     "execution_count": 248,
     "metadata": {},
     "output_type": "execute_result"
    }
   ],
   "source": [
    "NodeAttributes[1874]"
   ]
  },
  {
   "cell_type": "markdown",
   "metadata": {},
   "source": [
    "## Compute Weighted Social Score "
   ]
  },
  {
   "cell_type": "code",
   "execution_count": 253,
   "metadata": {},
   "outputs": [],
   "source": [
    "#\n",
    "# Weights:\n",
    "#\n",
    "# W = [ Weighted Clique, RawClique, NumClique, OutDegree, InDegree, Cluster Coeff, Betweeness, Avg ShortPath, Auth, Hub]\n",
    "#\n",
    "w_weightedClique = 0.9\n",
    "w_rawClique = 0.8\n",
    "w_numClique = 0.7\n",
    "w_outDegree = 0.6\n",
    "w_inDegree = 0.6\n",
    "w_clusterCoeff = 0.3 \n",
    "w_betweeness = 0.3 \n",
    "w_shortpath = 0.5 \n",
    "w_auth = 0.2 \n",
    "w_hub = 0.1 \n",
    "\n",
    "w = np.array([w_weightedClique,\\\n",
    "             w_rawClique, \\\n",
    "             w_numClique, \\\n",
    "             w_outDegree, \\\n",
    "             w_inDegree, \\\n",
    "             w_clusterCoeff, \\\n",
    "             w_betweeness, \\\n",
    "             w_shortpath, \\\n",
    "             w_auth, \\\n",
    "             w_hub])\n",
    "\n",
    "w_sum = np.sum(w)"
   ]
  },
  {
   "cell_type": "markdown",
   "metadata": {},
   "source": [
    "### Social Score is computed as follows \n",
    "\n",
    "\\begin{align}\n",
    "w_x * C_x & = w_x * 100 * \\left[ \\frac{x_i - infx}{sup\\ x - inf\\ x} \\right] \\\\\n",
    "\\\\\n",
    "score & = \\frac{\\Sigma_{all\\ x} w * C_x}{\\Sigma_{all\\ x} w}\n",
    "\\end{align}"
   ]
  },
  {
   "cell_type": "code",
   "execution_count": 255,
   "metadata": {},
   "outputs": [],
   "source": [
    "socialScore = list()\n",
    "\n",
    "for node, attributes in NodeAttributes.iteritems():\n",
    "    weightedClique = attributes.get('normWeightedClique', 0.0)\n",
    "    rawClique = attributes.get('normRawClique', 0.0)\n",
    "    numClique = attributes.get('normNodeClique', 0.0)\n",
    "    outDeg =  attributes.get('NormOutDegree', 0.0)\n",
    "    inDeg =  attributes.get('NormInDegree', 0.0)\n",
    "    clusterCoeff =  attributes.get('NormClusterCoeff', 0.0)\n",
    "    betweeness = attributes.get('normBetweeness', 0.0)\n",
    "    shortestPath = attributes.get('normAvgShortPathLen', 0.0)\n",
    "    authScore = attributes.get('normAuthScore', 0.0)\n",
    "    hubSccore = attributes.get('normHubScore', 0.0)\n",
    "    \n",
    "    C_x = np.array([weightedClique, \\\n",
    "                   rawClique, \\\n",
    "                   numClique, \\\n",
    "                   outDeg, \\\n",
    "                   inDeg, \\\n",
    "                   clusterCoeff, \\\n",
    "                   betweeness, \\\n",
    "                   shortestPath, \\\n",
    "                   authScore, \\\n",
    "                   hubSccore])\n",
    "    \n",
    "    score = 100.0 * np.dot(w, C_x)/w_sum\n",
    "    socialScore.append((node, score))\n",
    "    "
   ]
  },
  {
   "cell_type": "code",
   "execution_count": 256,
   "metadata": {},
   "outputs": [],
   "source": [
    "socialScore.sort(key=lambda x: x[1], reverse=True)"
   ]
  },
  {
   "cell_type": "code",
   "execution_count": 257,
   "metadata": {
    "scrolled": true
   },
   "outputs": [
    {
     "name": "stdout",
     "output_type": "stream",
     "text": [
      "[(1874, 85.86720944906979), (1258, 55.9778907924103), (999, 50.61051396942534), (1669, 47.27542700847994), (511, 40.31705218340864), (585, 33.064089627423826), (1998, 32.41884981873541), (1839, 28.873591736745578), (1369, 28.7430390082418), (453, 28.201871267917863)]\n"
     ]
    }
   ],
   "source": [
    "print socialScore[:10]"
   ]
  },
  {
   "cell_type": "code",
   "execution_count": 260,
   "metadata": {},
   "outputs": [],
   "source": [
    "with open('socialScore.txt', 'w') as fd:\n",
    "    for (node, score) in socialScore:\n",
    "        fd.write(\"%r  %r\\n\" % (node, score))"
   ]
  }
 ],
 "metadata": {
  "kernelspec": {
   "display_name": "Python2 (project env)",
   "language": "python",
   "name": "project"
  },
  "language_info": {
   "codemirror_mode": {
    "name": "ipython",
    "version": 2
   },
   "file_extension": ".py",
   "mimetype": "text/x-python",
   "name": "python",
   "nbconvert_exporter": "python",
   "pygments_lexer": "ipython2",
   "version": "2.7.13"
  }
 },
 "nbformat": 4,
 "nbformat_minor": 2
}
